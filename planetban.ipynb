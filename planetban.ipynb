{
 "cells": [
  {
   "cell_type": "code",
   "execution_count": 1,
   "metadata": {},
   "outputs": [],
   "source": [
    "from selenium import webdriver"
   ]
  },
  {
   "cell_type": "code",
   "execution_count": 2,
   "metadata": {},
   "outputs": [],
   "source": [
    "from selenium.common.exceptions import NoSuchElementException"
   ]
  },
  {
   "cell_type": "code",
   "execution_count": 3,
   "metadata": {},
   "outputs": [],
   "source": [
    "url = \"https://planetban.com/ban-motor\""
   ]
  },
  {
   "cell_type": "code",
   "execution_count": 4,
   "metadata": {},
   "outputs": [
    {
     "name": "stderr",
     "output_type": "stream",
     "text": [
      "c:\\users\\admin\\envs\\scraping\\lib\\site-packages\\selenium\\webdriver\\phantomjs\\webdriver.py:49: UserWarning: Selenium support for PhantomJS has been deprecated, please use headless versions of Chrome or Firefox instead\n",
      "  warnings.warn('Selenium support for PhantomJS has been deprecated, please use headless '\n"
     ]
    }
   ],
   "source": [
    "driver = webdriver.PhantomJS()"
   ]
  },
  {
   "cell_type": "code",
   "execution_count": 5,
   "metadata": {},
   "outputs": [],
   "source": [
    "driver.implicitly_wait(10)"
   ]
  },
  {
   "cell_type": "code",
   "execution_count": 6,
   "metadata": {},
   "outputs": [],
   "source": [
    "driver.get(url)"
   ]
  },
  {
   "cell_type": "code",
   "execution_count": 7,
   "metadata": {},
   "outputs": [
    {
     "name": "stdout",
     "output_type": "stream",
     "text": [
      "https://planetban.com/ban-motor\n"
     ]
    }
   ],
   "source": [
    "print(driver.current_url)"
   ]
  },
  {
   "cell_type": "code",
   "execution_count": 8,
   "metadata": {},
   "outputs": [],
   "source": [
    "import re"
   ]
  },
  {
   "cell_type": "code",
   "execution_count": 9,
   "metadata": {},
   "outputs": [],
   "source": [
    "import urllib.request"
   ]
  },
  {
   "cell_type": "code",
   "execution_count": 10,
   "metadata": {},
   "outputs": [],
   "source": [
    "import json"
   ]
  },
  {
   "cell_type": "code",
   "execution_count": 11,
   "metadata": {},
   "outputs": [],
   "source": [
    "products = []"
   ]
  },
  {
   "cell_type": "code",
   "execution_count": 12,
   "metadata": {},
   "outputs": [],
   "source": [
    "for product in driver.find_elements_by_class_name('item'):\n",
    "    if product.text != '':\n",
    "        details = re.split('\\n',product.text)\n",
    "        images = []\n",
    "        for img in product.find_elements_by_tag_name('img'):\n",
    "            images.append({'alt': img.get_attribute('alt'), 'src': img.get_attribute('src')})\n",
    "        if (len(images) == 2 and len(details) == 3):\n",
    "            products.append(\n",
    "                {\n",
    "                    'type': details[0],\n",
    "                    'name': details[1],\n",
    "                    'price': details[2],\n",
    "                    'brand': images[0]['alt'],\n",
    "                    'brand_img': images[0]['src'],\n",
    "                    'thumb_alt': images[1]['alt'],\n",
    "                    'thumb_img': images[1]['src'],\n",
    "                })"
   ]
  },
  {
   "cell_type": "code",
   "execution_count": 15,
   "metadata": {},
   "outputs": [],
   "source": [
    "with open('planetban.json','w') as file:\n",
    "    json.dump(products, file, indent=4)"
   ]
  },
  {
   "cell_type": "code",
   "execution_count": 14,
   "metadata": {},
   "outputs": [
    {
     "data": {
      "text/plain": [
       "[{'type': 'TUBETYPEMATIC',\n",
       "  'name': 'ECOMAX H01 70/90-14',\n",
       "  'price': 'Rp. 89.000',\n",
       "  'brand': 'Corsa',\n",
       "  'brand_img': 'https://planetban.com/media/manufacturers/logo_icon_corsa.png',\n",
       "  'thumb_alt': 'ECOMAX H01 70/90-14',\n",
       "  'thumb_img': 'https://planetban.com/media/catalog/product/cache/1/small_image/220x220/9df78eab33525d08d6e5fb8d27136e95/b/a/battlax-h01-01.jpg'},\n",
       " {'type': 'TUBETYPEMATIC',\n",
       "  'name': 'ECOMAX H01 80/90-14',\n",
       "  'price': 'Rp. 117.000',\n",
       "  'brand': 'Corsa',\n",
       "  'brand_img': 'https://planetban.com/media/manufacturers/logo_icon_corsa.png',\n",
       "  'thumb_alt': 'ECOMAX H01 80/90-14',\n",
       "  'thumb_img': 'https://planetban.com/media/catalog/product/cache/1/small_image/220x220/9df78eab33525d08d6e5fb8d27136e95/b/a/battlax-h01-01_1.jpg'},\n",
       " {'type': 'TUBETYPEMATIC',\n",
       "  'name': 'ECOMAX H01 90/90-14',\n",
       "  'price': 'Rp. 145.000',\n",
       "  'brand': 'Corsa',\n",
       "  'brand_img': 'https://planetban.com/media/manufacturers/logo_icon_corsa.png',\n",
       "  'thumb_alt': 'ECOMAX H01 90/90-14',\n",
       "  'thumb_img': 'https://planetban.com/media/catalog/product/cache/1/small_image/220x220/9df78eab33525d08d6e5fb8d27136e95/b/a/battlax-h01-01_2.jpg'},\n",
       " {'type': 'TUBETYPEBEBEK',\n",
       "  'name': 'ECOMAX H02 70/90-17',\n",
       "  'price': 'Rp. 119.000',\n",
       "  'brand': 'Corsa',\n",
       "  'brand_img': 'https://planetban.com/media/manufacturers/logo_icon_corsa.png',\n",
       "  'thumb_alt': 'ECOMAX H02 70/90-17',\n",
       "  'thumb_img': 'https://planetban.com/media/catalog/product/cache/1/small_image/220x220/9df78eab33525d08d6e5fb8d27136e95/b/a/battlax-h02-01_2.jpg'},\n",
       " {'type': 'TUBETYPEBEBEK',\n",
       "  'name': 'ECOMAX H02 80/90-17',\n",
       "  'price': 'Rp. 149.000',\n",
       "  'brand': 'Corsa',\n",
       "  'brand_img': 'https://planetban.com/media/manufacturers/logo_icon_corsa.png',\n",
       "  'thumb_alt': 'ECOMAX H02 80/90-17',\n",
       "  'thumb_img': 'https://planetban.com/media/catalog/product/cache/1/small_image/220x220/9df78eab33525d08d6e5fb8d27136e95/b/a/battlax-h02-01_3.jpg'},\n",
       " {'type': 'TUBETYPEMATIC',\n",
       "  'name': 'IRC NR72 TUBETYPE',\n",
       "  'price': 'Rp. 135.000',\n",
       "  'brand': 'IRC',\n",
       "  'brand_img': 'https://planetban.com/media/manufacturers/logo_icon_irc_tire.png',\n",
       "  'thumb_alt': 'IRC NR72 TUBETYPE',\n",
       "  'thumb_img': 'https://planetban.com/media/catalog/product/cache/1/small_image/220x220/9df78eab33525d08d6e5fb8d27136e95/i/m/image-produk-irc-nr72-01.jpg'},\n",
       " {'type': 'TUBETYPEMATIC',\n",
       "  'name': 'IRC SS 530 TUBETYPE',\n",
       "  'price': 'Rp. 141.000',\n",
       "  'brand': 'IRC',\n",
       "  'brand_img': 'https://planetban.com/media/manufacturers/logo_icon_irc_tire.png',\n",
       "  'thumb_alt': 'IRC SS 530 TUBETYPE',\n",
       "  'thumb_img': 'https://planetban.com/media/catalog/product/cache/1/small_image/220x220/9df78eab33525d08d6e5fb8d27136e95/i/r/irc-ss-530-01.jpg'},\n",
       " {'type': 'TUBELESSMATIC',\n",
       "  'name': 'FDR CITYGO TUBELESS',\n",
       "  'price': 'Rp. 200.000',\n",
       "  'brand': 'FDR',\n",
       "  'brand_img': 'https://planetban.com/media/manufacturers/logo_icon_fdr.png',\n",
       "  'thumb_alt': 'FDR CITYGO TUBELESS',\n",
       "  'thumb_img': 'https://planetban.com/media/catalog/product/cache/1/small_image/220x220/9df78eab33525d08d6e5fb8d27136e95/f/d/fdr-citygo-01.jpg'},\n",
       " {'type': 'TUBETYPEBEBEK',\n",
       "  'name': 'FDR FLEMMO PRO TUBETYPE',\n",
       "  'price': 'Rp. 133.000',\n",
       "  'brand': 'FDR',\n",
       "  'brand_img': 'https://planetban.com/media/manufacturers/logo_icon_fdr.png',\n",
       "  'thumb_alt': 'FDR FLEMMO PRO TUBETYPE',\n",
       "  'thumb_img': 'https://planetban.com/media/catalog/product/cache/1/small_image/220x220/9df78eab33525d08d6e5fb8d27136e95/f/d/fdr-flemmo-pro-01.jpg'},\n",
       " {'type': 'TUBELESSBEBEK',\n",
       "  'name': 'MICHELIN PILOT STREET TUBELESS',\n",
       "  'price': 'Rp. 258.000',\n",
       "  'brand': 'Michelin',\n",
       "  'brand_img': 'https://planetban.com/media/manufacturers/logo_icon_michelin.png',\n",
       "  'thumb_alt': 'MICHELIN PILOT STREET TUBELESS',\n",
       "  'thumb_img': 'https://planetban.com/media/catalog/product/cache/1/small_image/220x220/9df78eab33525d08d6e5fb8d27136e95/m/i/michelin-pilot-street-01_1_3.jpg'},\n",
       " {'type': 'TUBELESSMATIC',\n",
       "  'name': 'MICHELIN CITY GRIP PRO TUBELESS',\n",
       "  'price': 'Rp. 222.000',\n",
       "  'brand': 'Michelin',\n",
       "  'brand_img': 'https://planetban.com/media/manufacturers/logo_icon_michelin.png',\n",
       "  'thumb_alt': 'MICHELIN CITY GRIP PRO TUBELESS',\n",
       "  'thumb_img': 'https://planetban.com/media/catalog/product/cache/1/small_image/220x220/9df78eab33525d08d6e5fb8d27136e95/m/i/michelin-city-grippro-01_13.jpg'},\n",
       " {'type': 'TUBELESSMATIC',\n",
       "  'name': 'MICHELIN SIRAC STREET TUBELESS',\n",
       "  'price': 'Rp. 328.000',\n",
       "  'brand': 'Michelin',\n",
       "  'brand_img': 'https://planetban.com/media/manufacturers/logo_icon_michelin.png',\n",
       "  'thumb_alt': 'MICHELIN SIRAC STREET TUBELESS',\n",
       "  'thumb_img': 'https://planetban.com/media/catalog/product/cache/1/small_image/220x220/9df78eab33525d08d6e5fb8d27136e95/m/i/michelin-sirac-01_2_2.jpg'},\n",
       " {'type': 'TUBELESSMATIC',\n",
       "  'name': 'MICHELIN CITY GRIP TUBELESS',\n",
       "  'price': 'Rp. 403.000',\n",
       "  'brand': 'Michelin',\n",
       "  'brand_img': 'https://planetban.com/media/manufacturers/logo_icon_michelin.png',\n",
       "  'thumb_alt': 'MICHELIN CITY GRIP TUBELESS',\n",
       "  'thumb_img': 'https://planetban.com/media/catalog/product/cache/1/small_image/220x220/9df78eab33525d08d6e5fb8d27136e95/m/i/michelin-city-grip-01_3.jpg'},\n",
       " {'type': 'TUBELESSBEBEK',\n",
       "  'name': 'PIRELLI ANGEL SCOOTER TUBELESS',\n",
       "  'price': 'Rp. 429.000',\n",
       "  'brand': 'Pirelli',\n",
       "  'brand_img': 'https://planetban.com/media/manufacturers/logo_icon_pirelli.png',\n",
       "  'thumb_alt': 'PIRELLI ANGEL SCOOTER TUBELESS',\n",
       "  'thumb_img': 'https://planetban.com/media/catalog/product/cache/1/small_image/220x220/9df78eab33525d08d6e5fb8d27136e95/p/i/pirelli-angel-scooter-00.jpg'},\n",
       " {'type': 'TUBELESSBEBEK',\n",
       "  'name': 'PIRELLI DIABLO ROSSO SPORT TUBELESS',\n",
       "  'price': 'Rp. 305.000',\n",
       "  'brand': 'Pirelli',\n",
       "  'brand_img': 'https://planetban.com/media/manufacturers/logo_icon_pirelli.png',\n",
       "  'thumb_alt': 'PIRELLI DIABLO ROSSO SPORT TUBELESS',\n",
       "  'thumb_img': 'https://planetban.com/media/catalog/product/cache/1/small_image/220x220/9df78eab33525d08d6e5fb8d27136e95/p/i/pirelli-diablo-rosso-sport-01_2.jpg'},\n",
       " {'type': 'TUBELESSBEBEK',\n",
       "  'name': 'FDR GENZI PRO TUBELESS',\n",
       "  'price': 'Rp. 168.000',\n",
       "  'brand': 'FDR',\n",
       "  'brand_img': 'https://planetban.com/media/manufacturers/logo_icon_fdr.png',\n",
       "  'thumb_alt': 'FDR GENZI PRO TUBELESS',\n",
       "  'thumb_img': 'https://planetban.com/media/catalog/product/cache/1/small_image/220x220/9df78eab33525d08d6e5fb8d27136e95/f/d/fdr-genzi-pro-01.jpg'},\n",
       " {'type': 'TUBELESSBEBEK',\n",
       "  'name': 'ASPIRA PREMIO SPORTIVO',\n",
       "  'price': 'Rp. 169.000',\n",
       "  'brand': 'Aspira',\n",
       "  'brand_img': 'https://planetban.com/media/manufacturers/logo_icon_aspira_premio.png',\n",
       "  'thumb_alt': 'ASPIRA PREMIO SPORTIVO',\n",
       "  'thumb_img': 'https://planetban.com/media/catalog/product/cache/1/small_image/220x220/9df78eab33525d08d6e5fb8d27136e95/a/s/aspira-premio-sportivor13-03_1_1.jpg'},\n",
       " {'type': 'TUBELESSBEBEK',\n",
       "  'name': 'ASPIRA PREMIO TERRENO',\n",
       "  'price': 'Rp. 200.000',\n",
       "  'brand': 'Aspira',\n",
       "  'brand_img': 'https://planetban.com/media/manufacturers/logo_icon_aspira_premio.png',\n",
       "  'thumb_alt': 'ASPIRA PREMIO TERRENO ',\n",
       "  'thumb_img': 'https://planetban.com/media/catalog/product/cache/1/small_image/220x220/9df78eab33525d08d6e5fb8d27136e95/a/s/aspira-premio-terreno-03_13.jpg'},\n",
       " {'type': 'TUBETYPEMATIC',\n",
       "  'name': 'PLANETO SE-30 TUBETYPE',\n",
       "  'price': 'Rp. 111.000',\n",
       "  'brand': 'Corsa',\n",
       "  'brand_img': 'https://planetban.com/media/manufacturers/logo_icon_corsa.png',\n",
       "  'thumb_alt': 'PLANETO SE-30 TUBETYPE',\n",
       "  'thumb_img': 'https://planetban.com/media/catalog/product/cache/1/small_image/220x220/9df78eab33525d08d6e5fb8d27136e95/b/a/battlax-se30-03_7.jpg'},\n",
       " {'type': 'TUBETYPEMATIC',\n",
       "  'name': 'CORSA ECOMAX H-01 TUBETYPE',\n",
       "  'price': 'Rp. 89.000',\n",
       "  'brand': 'Corsa',\n",
       "  'brand_img': 'https://planetban.com/media/manufacturers/logo_icon_corsa.png',\n",
       "  'thumb_alt': 'CORSA ECOMAX H-01 TUBETYPE',\n",
       "  'thumb_img': 'https://planetban.com/media/catalog/product/cache/1/small_image/220x220/9df78eab33525d08d6e5fb8d27136e95/b/a/battlax-h01-01_3.jpg'},\n",
       " {'type': 'TUBELESSBEBEK',\n",
       "  'name': 'CORSA ECOMAX H-01 TUBELESS',\n",
       "  'price': 'Rp. 109.000',\n",
       "  'brand': 'Corsa',\n",
       "  'brand_img': 'https://planetban.com/media/manufacturers/logo_icon_corsa.png',\n",
       "  'thumb_alt': 'CORSA ECOMAX H-01 TUBELESS',\n",
       "  'thumb_img': 'https://planetban.com/media/catalog/product/cache/1/small_image/220x220/9df78eab33525d08d6e5fb8d27136e95/b/a/battlax-h01-01_4.jpg'},\n",
       " {'type': 'TUBETYPEBEBEK',\n",
       "  'name': 'CORSA ECOMAX H-02 TUBETYPE',\n",
       "  'price': 'Rp. 119.000',\n",
       "  'brand': 'Corsa',\n",
       "  'brand_img': 'https://planetban.com/media/manufacturers/logo_icon_corsa.png',\n",
       "  'thumb_alt': 'CORSA ECOMAX H-02 TUBETYPE',\n",
       "  'thumb_img': 'https://planetban.com/media/catalog/product/cache/1/small_image/220x220/9df78eab33525d08d6e5fb8d27136e95/b/a/battlax-h02-01_6.jpg'},\n",
       " {'type': 'TUBELESSBEBEK',\n",
       "  'name': 'CORSA ECOMAX H-02 TUBELESS',\n",
       "  'price': 'Rp. 142.000',\n",
       "  'brand': 'Corsa',\n",
       "  'brand_img': 'https://planetban.com/media/manufacturers/logo_icon_corsa.png',\n",
       "  'thumb_alt': 'CORSA ECOMAX H-02 TUBELESS',\n",
       "  'thumb_img': 'https://planetban.com/media/catalog/product/cache/1/small_image/220x220/9df78eab33525d08d6e5fb8d27136e95/b/a/battlax-h02-01_5.jpg'}]"
      ]
     },
     "execution_count": 14,
     "metadata": {},
     "output_type": "execute_result"
    }
   ],
   "source": [
    "products"
   ]
  },
  {
   "cell_type": "code",
   "execution_count": null,
   "metadata": {},
   "outputs": [],
   "source": []
  }
 ],
 "metadata": {
  "kernelspec": {
   "display_name": "Python 3",
   "language": "python",
   "name": "python3"
  },
  "language_info": {
   "codemirror_mode": {
    "name": "ipython",
    "version": 3
   },
   "file_extension": ".py",
   "mimetype": "text/x-python",
   "name": "python",
   "nbconvert_exporter": "python",
   "pygments_lexer": "ipython3",
   "version": "3.8.2"
  }
 },
 "nbformat": 4,
 "nbformat_minor": 4
}
