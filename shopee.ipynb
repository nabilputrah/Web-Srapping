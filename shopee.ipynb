{
 "cells": [
  {
   "cell_type": "code",
   "execution_count": 17,
   "metadata": {},
   "outputs": [],
   "source": [
    "from selenium import webdriver"
   ]
  },
  {
   "cell_type": "code",
   "execution_count": 18,
   "metadata": {},
   "outputs": [],
   "source": [
    "url = \"https://shopee.co.id/shop/958451/search?facet=18077&amp;page=0&amp;shopCollection=18294279&amp;sortBy=pop\""
   ]
  },
  {
   "cell_type": "code",
   "execution_count": 11,
   "metadata": {},
   "outputs": [],
   "source": [
    "driver = webdriver.PhantomJS()"
   ]
  },
  {
   "cell_type": "code",
   "execution_count": 12,
   "metadata": {},
   "outputs": [
    {
     "name": "stdout",
     "output_type": "stream",
     "text": [
      "https://shopee.co.id/shop/958451/search?facet=18077&amp;page=0&amp;shopCollection=18294279&amp;sortBy=pop\n"
     ]
    }
   ],
   "source": [
    "driver.implicitly_wait(10)\n",
    "driver.get(url)\n",
    "print(driver.current_url)"
   ]
  },
  {
   "cell_type": "code",
   "execution_count": 13,
   "metadata": {},
   "outputs": [],
   "source": [
    "import re\n",
    "import urllib.request\n",
    "import json"
   ]
  },
  {
   "cell_type": "code",
   "execution_count": 14,
   "metadata": {},
   "outputs": [],
   "source": [
    "products = []"
   ]
  },
  {
   "cell_type": "code",
   "execution_count": 23,
   "metadata": {},
   "outputs": [],
   "source": [
    "for product in driver.find_elements_by_xpath(\"//div[@class='_3eufr2']\"):\n",
    "    if product.text != '':\n",
    "        details = re.split('\\n',product.text)\n",
    "        if (len(details) == 5):\n",
    "            products.append(\n",
    "                {\n",
    "                    'Model': details[0],\n",
    "                    'Harga': details[1],\n",
    "                    'Harga Diskon': details[2],\n",
    "                    'Terjual': details[3],\n",
    "                    'Kota': details[4],\n",
    "                })"
   ]
  },
  {
   "cell_type": "code",
   "execution_count": 24,
   "metadata": {},
   "outputs": [
    {
     "data": {
      "text/plain": [
       "[{'Model': 'Premio 70/80-17 Sportivo Ban Tubeless Aspira Duo Massimo Motor Bebek',\n",
       "  'Harga': 'Grosir',\n",
       "  'Harga Diskon': 'Rp109.000',\n",
       "  'Terjual': '61 Terjual',\n",
       "  'Kota': 'KOTA BANDUNG'},\n",
       " {'Model': 'Premio 80/80-17 Sportivo Ban Tubeless Aspira Duo Massimo Motor Bebek',\n",
       "  'Harga': 'Grosir',\n",
       "  'Harga Diskon': 'Rp129.000',\n",
       "  'Terjual': '54 Terjual',\n",
       "  'Kota': 'KOTA BANDUNG'},\n",
       " {'Model': 'IRC 90/80-14 Fasti Pro Soft Compound Racing Ban Luar Motor Matic Balap',\n",
       "  'Harga': 'Grosir',\n",
       "  'Harga Diskon': 'Rp269.000',\n",
       "  'Terjual': '87 Terjual',\n",
       "  'Kota': 'KOTA BANDUNG'},\n",
       " {'Model': 'CnC Pentil Tubeless Ban Tubeles Motor Mobil Variasi Warna Warni Bagus',\n",
       "  'Harga': 'Grosir',\n",
       "  'Harga Diskon': 'Rp10.000',\n",
       "  'Terjual': '701 Terjual',\n",
       "  'Kota': 'KOTA BANDUNG'},\n",
       " {'Model': 'Pentil Tubeless Panjang Ban Tubeles Motor Mobil Drat Bagus Awet',\n",
       "  'Harga': 'Grosir',\n",
       "  'Harga Diskon': 'Rp5.000',\n",
       "  'Terjual': '165 Terjual',\n",
       "  'Kota': 'KOTA BANDUNG'},\n",
       " {'Model': 'IRC 80/80-14 Fasti Pro Soft Compound Racing Ban Luar Motor Matic Balap',\n",
       "  'Harga': 'Grosir',\n",
       "  'Harga Diskon': 'Rp249.000',\n",
       "  'Terjual': '32 Terjual',\n",
       "  'Kota': 'KOTA BANDUNG'},\n",
       " {'Model': 'Pentil Tubeless Karet Ban Motor Mobil Velg Cop Tubeles Kop Tubles',\n",
       "  'Harga': 'Grosir',\n",
       "  'Harga Diskon': 'Rp2.000',\n",
       "  'Terjual': '905 Terjual',\n",
       "  'Kota': 'KOTA BANDUNG'},\n",
       " {'Model': 'Pirelli 90/80-17 Diablo Rosso Sport Rear Ban Tubeless Belakang Motor',\n",
       "  'Harga': 'Grosir',\n",
       "  'Harga Diskon': 'Rp384.000',\n",
       "  'Terjual': '4 Terjual',\n",
       "  'Kota': 'KOTA BANDUNG'},\n",
       " {'Model': 'IRC 90/80-17 Fasti Pro Soft Compound Racing Ban Luar Motor Bebek Balap',\n",
       "  'Harga': 'Grosir',\n",
       "  'Harga Diskon': 'Rp399.000',\n",
       "  'Terjual': '27 Terjual',\n",
       "  'Kota': 'KOTA BANDUNG'},\n",
       " {'Model': 'AHM 80/90-14 KVB Tubetype Ban Motor Matic Original Honda Federal',\n",
       "  'Harga': 'Grosir',\n",
       "  'Harga Diskon': 'Rp121.000',\n",
       "  'Terjual': '12 Terjual',\n",
       "  'Kota': 'KOTA BANDUNG'},\n",
       " {'Model': 'Ban Racing Mizzle MR01 90/80-14 MR1 MR one',\n",
       "  'Harga': 'Grosir',\n",
       "  'Harga Diskon': 'Rp229.000',\n",
       "  'Terjual': '36 Terjual',\n",
       "  'Kota': 'KOTA BANDUNG'},\n",
       " {'Model': 'Ban Corsa 80/80-14 R46 Platinum Soft Compound Racing Tubeless',\n",
       "  'Harga': 'Grosir',\n",
       "  'Harga Diskon': 'Rp189.000',\n",
       "  'Terjual': '3 Terjual',\n",
       "  'Kota': 'KOTA BANDUNG'},\n",
       " {'Model': 'FDR 130/70-12 Sport Zevo Ban Tubeless Motor New Scoopy Vespa Ring 12',\n",
       "  'Harga': 'Grosir',\n",
       "  'Harga Diskon': 'Rp254.000',\n",
       "  'Terjual': '9 Terjual',\n",
       "  'Kota': 'KOTA BANDUNG'},\n",
       " {'Model': 'Ban Dalam IRC 80/90-14 Motor Matic',\n",
       "  'Harga': 'Grosir',\n",
       "  'Harga Diskon': 'Rp29.000',\n",
       "  'Terjual': '52 Terjual',\n",
       "  'Kota': 'KOTA BANDUNG'},\n",
       " {'Model': 'FDR 90/80-14 Sport XR Evo Ban Tubeless Motor Matic Honda Yamaha',\n",
       "  'Harga': 'Grosir',\n",
       "  'Harga Diskon': 'Rp185.000',\n",
       "  'Terjual': '54 Terjual',\n",
       "  'Kota': 'KOTA BANDUNG'},\n",
       " {'Model': 'Maxxis 90/80-14 MA3DN Ban Tubeless Motor Matic Matik MA 3DN',\n",
       "  'Harga': 'Grosir',\n",
       "  'Harga Diskon': 'Rp186.000',\n",
       "  'Terjual': '22 Terjual',\n",
       "  'Kota': 'KOTA BANDUNG'},\n",
       " {'Model': 'FDR 80/90-14 Flemino Tubeless Ban Motor Matic',\n",
       "  'Harga': 'Grosir',\n",
       "  'Harga Diskon': 'Rp155.000',\n",
       "  'Terjual': '22 Terjual',\n",
       "  'Kota': 'KOTA BANDUNG'},\n",
       " {'Model': 'Refill Isi Ulang Tambal Ban Tubeless Lem Cacing Karet Tubles Nankai',\n",
       "  'Harga': 'Grosir',\n",
       "  'Harga Diskon': 'Rp10.000',\n",
       "  'Terjual': '63 Terjual',\n",
       "  'Kota': 'KOTA BANDUNG'},\n",
       " {'Model': 'FDR 80/90-17 Flemmo Tubetype Ban Motor Bebek Honda Yamaha Suzuki',\n",
       "  'Harga': 'Grosir',\n",
       "  'Harga Diskon': 'Rp145.000',\n",
       "  'Terjual': '41 Terjual',\n",
       "  'Kota': 'KOTA BANDUNG'},\n",
       " {'Model': 'Pirelli 100/80-10 SL38 Ban Motor Vespa Classic Klasik Tua LX LV S Zip',\n",
       "  'Harga': 'Grosir',\n",
       "  'Harga Diskon': 'Rp309.000',\n",
       "  'Terjual': '7 Terjual',\n",
       "  'Kota': 'KOTA BANDUNG'},\n",
       " {'Model': 'Pentil Tubeless Pendek Ban Motor Crome Kualitas Bagus',\n",
       "  'Harga': 'Grosir',\n",
       "  'Harga Diskon': 'Rp4.000',\n",
       "  'Terjual': '166 Terjual',\n",
       "  'Kota': 'KOTA BANDUNG'},\n",
       " {'Model': 'IRC 90/90-14 SS-530 Ban Motor Matic Honda Yamaha Tubetype',\n",
       "  'Harga': 'Grosir',\n",
       "  'Harga Diskon': 'Rp159.000',\n",
       "  'Terjual': '29 Terjual',\n",
       "  'Kota': 'KOTA BANDUNG'},\n",
       " {'Model': 'FDR 80/90-14 Facio Ban Motor Matik Tubeless',\n",
       "  'Harga': 'Grosir',\n",
       "  'Harga Diskon': 'Rp159.000',\n",
       "  'Terjual': '15 Terjual',\n",
       "  'Kota': 'KOTA BANDUNG'},\n",
       " {'Model': 'Maxxis 80/90-14 MA3DN Ban Tubeless Motor Matic Matik MA 3DN',\n",
       "  'Harga': 'Grosir',\n",
       "  'Harga Diskon': 'Rp155.000',\n",
       "  'Terjual': '38 Terjual',\n",
       "  'Kota': 'KOTA BANDUNG'},\n",
       " {'Model': 'Michelin 100/80-14 Pilot Street Ban Motor Tubeless Motor Matic',\n",
       "  'Harga': 'Grosir',\n",
       "  'Harga Diskon': 'Rp367.000',\n",
       "  'Terjual': '2 Terjual',\n",
       "  'Kota': 'KOTA BANDUNG'}]"
      ]
     },
     "execution_count": 24,
     "metadata": {},
     "output_type": "execute_result"
    }
   ],
   "source": [
    "products"
   ]
  },
  {
   "cell_type": "code",
   "execution_count": 25,
   "metadata": {},
   "outputs": [],
   "source": [
    "with open('shopee.json','w') as file:\n",
    "    json.dump(products, file, indent=4)"
   ]
  }
 ],
 "metadata": {
  "kernelspec": {
   "display_name": "Python 3",
   "language": "python",
   "name": "python3"
  },
  "language_info": {
   "codemirror_mode": {
    "name": "ipython",
    "version": 3
   },
   "file_extension": ".py",
   "mimetype": "text/x-python",
   "name": "python",
   "nbconvert_exporter": "python",
   "pygments_lexer": "ipython3",
   "version": "3.8.2"
  }
 },
 "nbformat": 4,
 "nbformat_minor": 4
}
